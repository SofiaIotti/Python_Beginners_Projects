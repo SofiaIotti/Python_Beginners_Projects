{
 "cells": [
  {
   "cell_type": "markdown",
   "id": "a2d06c3d",
   "metadata": {},
   "source": [
    "Exploring Hacker News Posts"
   ]
  },
  {
   "cell_type": "markdown",
   "id": "e3cd7612",
   "metadata": {},
   "source": [
    "On Hacker News users submit Ask HN posts to ask the \"Hacker News\" community a specific question and \"Show HN\" posts to show a project, product, or just something interesting.\n",
    "\n",
    "We'll compare these two types of posts to determine the following:\n",
    "\n",
    "Do Ask HN or Show HN receive more comments on average?\n",
    "Do posts created at a certain time receive more comments on average?"
   ]
  },
  {
   "cell_type": "code",
   "execution_count": 58,
   "id": "8a8f0c82",
   "metadata": {},
   "outputs": [
    {
     "name": "stdout",
     "output_type": "stream",
     "text": [
      "['id', 'title', 'url', 'num_points', 'num_comments', 'author', 'created_at']\n"
     ]
    }
   ],
   "source": [
    "import csv\n",
    "\n",
    "with open('hacker_news.csv', 'r') as file:\n",
    "    reader = csv.reader(file)\n",
    "    hn = list(reader)\n",
    "headers = hn[0]\n",
    "print(headers)"
   ]
  },
  {
   "cell_type": "code",
   "execution_count": 59,
   "id": "f17b9b71",
   "metadata": {},
   "outputs": [
    {
     "name": "stdout",
     "output_type": "stream",
     "text": [
      "[['12224879', 'Interactive Dynamic Video', 'http://www.interactivedynamicvideo.com/', '386', '52', 'ne0phyte', '8/4/2016 11:52'], ['10975351', 'How to Use Open Source and Shut the Fuck Up at the Same Time', 'http://hueniverse.com/2016/01/26/how-to-use-open-source-and-shut-the-fuck-up-at-the-same-time/', '39', '10', 'josep2', '1/26/2016 19:30'], ['11964716', \"Florida DJs May Face Felony for April Fools' Water Joke\", 'http://www.thewire.com/entertainment/2013/04/florida-djs-april-fools-water-joke/63798/', '2', '1', 'vezycash', '6/23/2016 22:20'], ['11919867', 'Technology ventures: From Idea to Enterprise', 'https://www.amazon.com/Technology-Ventures-Enterprise-Thomas-Byers/dp/0073523429', '3', '1', 'hswarna', '6/17/2016 0:01'], ['10301696', 'Note by Note: The Making of Steinway L1037 (2007)', 'http://www.nytimes.com/2007/11/07/movies/07stein.html?_r=0', '8', '2', 'walterbell', '9/30/2015 4:12']]\n"
     ]
    }
   ],
   "source": [
    "del hn[0]\n",
    "    \n",
    "print(hn[:5])"
   ]
  },
  {
   "cell_type": "markdown",
   "id": "043b7d35",
   "metadata": {},
   "source": [
    "Number of posts by type"
   ]
  },
  {
   "cell_type": "code",
   "execution_count": 60,
   "id": "66663e63",
   "metadata": {},
   "outputs": [
    {
     "name": "stdout",
     "output_type": "stream",
     "text": [
      "Number of Ask HN posts: 1744\n",
      "Number of Show HN posts: 1162\n",
      "Number of other posts: 17194\n"
     ]
    }
   ],
   "source": [
    "ask_posts = list()\n",
    "show_posts = list()\n",
    "other_posts = list()\n",
    "\n",
    "\n",
    "\n",
    "for post in hn:\n",
    "    title = post[1]\n",
    "    if title.lower().startswith('ask hn'):\n",
    "        ask_posts.append(post)\n",
    "        \"\"\" print(title, 'ask') \"\"\"\n",
    "    elif title.lower().startswith('show hn'):\n",
    "        show_posts.append(post)\n",
    "        \"\"\" print(title, 'show') \"\"\"\n",
    "    else:\n",
    "        other_posts.append(post)\n",
    "        \"\"\" print(title, 'other') \"\"\"\n",
    "\n",
    "print(\"Number of Ask HN posts:\", len(ask_posts))\n",
    "print(\"Number of Show HN posts:\", len(show_posts))\n",
    "print(\"Number of other posts:\", len(other_posts))"
   ]
  },
  {
   "cell_type": "markdown",
   "id": "62cd7822",
   "metadata": {},
   "source": [
    "Type of post with most comments on average"
   ]
  },
  {
   "cell_type": "code",
   "execution_count": 61,
   "id": "03e67de5",
   "metadata": {},
   "outputs": [
    {
     "name": "stdout",
     "output_type": "stream",
     "text": [
      "On average, Ask posts have more comments.\n"
     ]
    }
   ],
   "source": [
    "total_ask_comments = 0\n",
    "total_show_comments = 0\n",
    "\n",
    "for askcomm in ask_posts:\n",
    "    comments: int = int(askcomm[4])\n",
    "    total_ask_comments += comments\n",
    "\n",
    "avg_ask_comments = total_ask_comments / len(ask_posts)\n",
    "\n",
    "for showcomm in show_posts:\n",
    "    comments: int = int(showcomm[4])\n",
    "    total_show_comments += comments\n",
    "\n",
    "avg_show_comments = total_show_comments / len(show_posts)\n",
    "\n",
    "most_commented = ''\n",
    "\n",
    "if avg_ask_comments != avg_show_comments:\n",
    "    if avg_ask_comments > avg_show_comments:\n",
    "        most_commented = 'Ask'\n",
    "    elif avg_show_comments > avg_ask_comments:\n",
    "        most_commented = 'Show'\n",
    "\n",
    "comment = ''\n",
    "if most_commented:\n",
    "    comment = 'On average, ' + most_commented + ' posts have more comments.'\n",
    "else:\n",
    "    comment = 'On average, Show and Ask posts have the same number of comments.'\n",
    "\n",
    "print(comment)\n"
   ]
  },
  {
   "cell_type": "markdown",
   "id": "b990ac7b",
   "metadata": {},
   "source": [
    "Number of posts and number of comments by hour"
   ]
  },
  {
   "cell_type": "code",
   "execution_count": 62,
   "id": "9b3f2bae",
   "metadata": {},
   "outputs": [],
   "source": [
    "'''importing the datetime library'''\n",
    "try:\n",
    "    from _datetime import *\n",
    "    from _datetime import __doc__\n",
    "except ImportError:\n",
    "    from _pydatetime import *\n",
    "    from _pydatetime import __doc__\n",
    "\n",
    "__all__ = (\"date\", \"datetime\", \"time\", \"timedelta\", \"timezone\", \"tzinfo\",\n",
    "           \"MINYEAR\", \"MAXYEAR\", \"UTC\")"
   ]
  },
  {
   "cell_type": "code",
   "execution_count": 63,
   "id": "eb1befe1",
   "metadata": {},
   "outputs": [
    {
     "name": "stdout",
     "output_type": "stream",
     "text": [
      "{0: 108, 1: 108, 2: 82, 3: 113, 4: 63, 5: 72, 6: 53, 7: 66, 8: 54, 9: 52, 10: 47, 11: 44, 12: 45, 13: 33, 14: 50, 15: 44, 16: 57, 17: 66, 18: 75, 19: 77, 20: 113, 21: 118, 22: 100, 23: 104}\n",
      "{0: '235615661722041111328332210116141733121119667223134812117797327310116136111134738343312711121327518722422323301071641122121921327225912304199', 1: '311527623433131851321525532142446181531229172223106434124172733537525354111143437215427122211224124216182365111351151726131111812', 2: '2374212224111183813264226406737151446712424034774242132237411723358331912839521063122168221315532869', 3: '443208312571211191713321010119411062162321612134126232520217211951517241314711313410292221754432121610633150322818125115371110745433014238118', 4: '2194931311672439202361213121655246721349131655236316291222191619162229341052', 5: '14521712215218291511271118765791438665631411329494241044614614562651333351202151111282', 6: '1013611244332289139334211121414431043381463531012142724321295215', 7: '3223341241543313192213312114437652134221726225314226235361712822381242293222069721262514', 8: '307111844111184114651151162213126151014718816314142019654241212186816', 9: '12251182151691232847362232213112212011416333442172923924113245141', 10: '33741312512182111253131822412122108721469326191311251752', 11: '29221053110223611171691431273422167225113860325102224642', 12: '1123911675222101221368105011422181437311254636722122522', 13: '23122361125320225112389636192124214621271', 14: '51308342291161241412227834911221452351142954123321511153582', 15: '61560124239024147311312112122112422104351442121172', 16: '131197112122133711254618349109433221114101412506111244442313109431218258101', 17: '722810541226653284141462166511608711431517128313623101327362312313621111412416329', 18: '4151175533582924233725211696322257191210251439423829122106111494167152264588531812115213', 19: '291773242016315534511044695117225643791436312611266362491221262138834831192638131222231262286613', 20: '32292351172221512114611101114111664285371221254141133512132212394511123128112311119011626222152212425211669611850110211106612915221122133212925218', 21: '167215216812509333221226361123231011479103267162342814012811411189111161611225193414411681853511947133311369182412832731497216574592211158591221622022605321233731', 22: '1771941402310917282211251332522921225115399612453781211431021116352515211111212148214223125234319449198325151548271691088012', 23: '1273111822018215105559251126222451291623162554126541523742319656135347511251432216825122611111101431223242224362628213143452432515'}\n"
     ]
    }
   ],
   "source": [
    "from zoneinfo import ZoneInfo\n",
    "\n",
    "result_list = list()\n",
    "\n",
    "for post in ask_posts:\n",
    "    result_list.append([post[6], post[4]])\n",
    "\n",
    "counts_by_hour = dict()\n",
    "comments_by_hour = dict()\n",
    "\n",
    "source_tz = ZoneInfo('US/Eastern')  \n",
    "target_tz = ZoneInfo('Europe/Rome')\n",
    "\n",
    "for res in result_list:\n",
    "    naive_dt = datetime.strptime(res[0], '%m/%d/%Y %H:%M')\n",
    "    date_object = naive_dt.replace(tzinfo=source_tz)\n",
    "    converted_dt = date_object.astimezone(target_tz)\n",
    "    hour = converted_dt.hour\n",
    "\n",
    "    if hour not in counts_by_hour:\n",
    "        counts_by_hour[hour] = 1\n",
    "        comments_by_hour[hour] = res[1]\n",
    "    else: \n",
    "        counts_by_hour[hour] += 1\n",
    "        comments_by_hour[hour] += res[1]\n",
    "\n",
    "counts_by_hour_sorted = dict(sorted(counts_by_hour.items(), key=lambda x: x[0]))\n",
    "comments_by_hour_sorted = dict(sorted(comments_by_hour.items(), key=lambda x: x[0]))\n",
    "\n",
    "print(counts_by_hour_sorted)\n",
    "print(comments_by_hour_sorted)"
   ]
  },
  {
   "cell_type": "markdown",
   "id": "08706e18",
   "metadata": {},
   "source": [
    "Average number of comments per posts created during each hour of the day"
   ]
  },
  {
   "cell_type": "code",
   "execution_count": 64,
   "id": "05554f6c",
   "metadata": {},
   "outputs": [
    {
     "name": "stdout",
     "output_type": "stream",
     "text": [
      "At  0  people commented an average of  2.1816264974263065e+138  times.\n",
      "At  1  people commented an average of  2.884515031788258e+126  times.\n",
      "At  2  people commented an average of  2.8953807611111997e+97  times.\n",
      "At  3  people commented an average of  3.9221974563824e+138  times.\n",
      "At  4  people commented an average of  3.484017955035618e+73  times.\n",
      "At  5  people commented an average of  2.016904474335874e+83  times.\n",
      "At  6  people commented an average of  1.9124740459099795e+61  times.\n",
      "At  7  people commented an average of  4.883850365974717e+85  times.\n",
      "At  8  people commented an average of  5.687256372429336e+66  times.\n",
      "At  9  people commented an average of  2.3559965676329293e+62  times.\n",
      "At  10  people commented an average of  7.179002662166407e+53  times.\n",
      "At  11  people commented an average of  6.64114843414173e+53  times.\n",
      "At  12  people commented an average of  2.497581500493558e+52  times.\n",
      "At  13  people commented an average of  7.006776098581887e+38  times.\n",
      "At  14  people commented an average of  1.0261668458232248e+57  times.\n",
      "At  15  people commented an average of  1.3990937327050943e+48  times.\n",
      "At  16  people commented an average of  2.301703721440942e+72  times.\n",
      "At  17  people commented an average of  1.0951674867070504e+79  times.\n",
      "At  18  people commented an average of  5.534900711443899e+85  times.\n",
      "At  19  people commented an average of  3.789262883328773e+93  times.\n",
      "At  20  people commented an average of  2.857730192231992e+143  times.\n",
      "At  21  people commented an average of  1.4170781085805876e+159  times.\n",
      "At  22  people commented an average of  1.7719414023109172e+121  times.\n",
      "At  23  people commented an average of  1.2241459827098222e+127  times.\n"
     ]
    }
   ],
   "source": [
    "avg_by_hour = list()\n",
    "\n",
    "for hour in counts_by_hour_sorted:\n",
    "    avg_comments = int(comments_by_hour_sorted[hour]) / counts_by_hour_sorted[hour]\n",
    "    avg_by_hour.append([hour, avg_comments])\n",
    "\n",
    "for row in avg_by_hour:\n",
    "    print('At ', row[0], ' people commented an average of ', row[1], ' times.')"
   ]
  },
  {
   "cell_type": "markdown",
   "id": "32c8bc8b",
   "metadata": {},
   "source": [
    "Sorting values by hours with the highest average of commments"
   ]
  },
  {
   "cell_type": "code",
   "execution_count": 65,
   "id": "ad8db93e",
   "metadata": {},
   "outputs": [
    {
     "name": "stdout",
     "output_type": "stream",
     "text": [
      "[[1.4170781085805876e+159, 21], [2.857730192231992e+143, 20], [3.9221974563824e+138, 3], [2.1816264974263065e+138, 0], [1.2241459827098222e+127, 23], [2.884515031788258e+126, 1], [1.7719414023109172e+121, 22], [2.8953807611111997e+97, 2], [3.789262883328773e+93, 19], [5.534900711443899e+85, 18], [4.883850365974717e+85, 7], [2.016904474335874e+83, 5], [1.0951674867070504e+79, 17], [3.484017955035618e+73, 4], [2.301703721440942e+72, 16], [5.687256372429336e+66, 8], [2.3559965676329293e+62, 9], [1.9124740459099795e+61, 6], [1.0261668458232248e+57, 14], [7.179002662166407e+53, 10], [6.64114843414173e+53, 11], [2.497581500493558e+52, 12], [1.3990937327050943e+48, 15], [7.006776098581887e+38, 13]]\n"
     ]
    }
   ],
   "source": [
    "swap_avg_by_hour = list()\n",
    "\n",
    "for row in avg_by_hour:\n",
    "    swap_avg_by_hour.append([row[1], row[0]])\n",
    "\n",
    "sorted_swap = sorted(swap_avg_by_hour, key=lambda x: x[0], reverse = True)\n",
    "print(sorted_swap)"
   ]
  },
  {
   "cell_type": "markdown",
   "id": "51bc2406",
   "metadata": {},
   "source": [
    "Top 5 Hours for Ask Posts Comments"
   ]
  },
  {
   "cell_type": "code",
   "execution_count": 66,
   "id": "13be6204",
   "metadata": {},
   "outputs": [
    {
     "name": "stdout",
     "output_type": "stream",
     "text": [
      "21:00 1417078108580587559331530285601711789305210008340469493440947513285722557243569572081472639376278577604942602338673396105190074063888741559898159866500383506432.00  average comments per post.\n",
      "20:00 285773019223199216212462136407634615093392036717772879101300308554594451925356879859397557538447687611376123947012367031732089941252331343446016.00  average comments per post.\n",
      "03:00 3922197456382399818927584308708211153819729838525062176033039584422287631539354769978997561981457666551429685825476016391094317340761784320.00  average comments per post.\n",
      "00:00 2181626497426306517684847801335785275057143782629969853391748526577949275464865044954255795325704469747090230886151336501215097007969927168.00  average comments per post.\n",
      "23:00 12241459827098221858677546334088342641118661528658632186569104565696526417018813635319639353227830446082295937753131695957082112.00  average comments per post.\n"
     ]
    }
   ],
   "source": [
    "big5 = list()\n",
    "\n",
    "for i in range(5):\n",
    "    time = datetime.strptime(str(sorted_swap[i][1]), '%H').strftime('%H:%M')\n",
    "    avg = f\"{sorted_swap[i][0]:.2f}\"\n",
    "    big5.append([time, avg])\n",
    "for big in big5:\n",
    "    print(big[0], big[1], ' average comments per post.')"
   ]
  },
  {
   "cell_type": "markdown",
   "id": "b123a93d",
   "metadata": {},
   "source": [
    "During which hours should you create a post to have a higher chance of receiving comments?"
   ]
  },
  {
   "cell_type": "code",
   "execution_count": 67,
   "id": "f75a4fb0",
   "metadata": {},
   "outputs": [
    {
     "name": "stdout",
     "output_type": "stream",
     "text": [
      "In descendant order, in order to receive a higher number of comments, the best time possible to post on Hacker News are: \n",
      "-  21:00\n",
      "-  20:00\n",
      "-  03:00\n",
      "-  00:00\n",
      "-  23:00\n"
     ]
    }
   ],
   "source": [
    "print('In descendant order, in order to receive a higher number of comments, the best time possible to post on Hacker News are: ')\n",
    "\n",
    "for big in big5:\n",
    "    print ('- ', big[0])"
   ]
  },
  {
   "cell_type": "code",
   "execution_count": null,
   "id": "ad0c97c5",
   "metadata": {},
   "outputs": [],
   "source": []
  }
 ],
 "metadata": {
  "kernelspec": {
   "display_name": "Python 3",
   "language": "python",
   "name": "python3"
  },
  "language_info": {
   "codemirror_mode": {
    "name": "ipython",
    "version": 3
   },
   "file_extension": ".py",
   "mimetype": "text/x-python",
   "name": "python",
   "nbconvert_exporter": "python",
   "pygments_lexer": "ipython3",
   "version": "3.13.1"
  }
 },
 "nbformat": 4,
 "nbformat_minor": 5
}
