{
 "cells": [
  {
   "cell_type": "markdown",
   "id": "a2d06c3d",
   "metadata": {},
   "source": [
    "Exploring Hacker News Posts"
   ]
  },
  {
   "cell_type": "markdown",
   "id": "e3cd7612",
   "metadata": {},
   "source": [
    "On Hacker News users submit Ask HN posts to ask the \"Hacker News\" community a specific question and \"Show HN\" posts to show a project, product, or just something interesting.\n",
    "\n",
    "We'll compare these two types of posts to determine the following:\n",
    "\n",
    "Do Ask HN or Show HN receive more comments on average?\n",
    "Do posts created at a certain time receive more comments on average?"
   ]
  },
  {
   "cell_type": "code",
   "execution_count": 1,
   "id": "8a8f0c82",
   "metadata": {},
   "outputs": [
    {
     "name": "stdout",
     "output_type": "stream",
     "text": [
      "['id', 'title', 'url', 'num_points', 'num_comments', 'author', 'created_at']\n"
     ]
    }
   ],
   "source": [
    "import csv\n",
    "\n",
    "with open('hacker_news.csv', 'r') as file:\n",
    "    reader = csv.reader(file)\n",
    "    hn = list(reader)\n",
    "headers = hn[0]\n",
    "print(headers)"
   ]
  },
  {
   "cell_type": "code",
   "execution_count": null,
   "id": "f17b9b71",
   "metadata": {},
   "outputs": [
    {
     "name": "stdout",
     "output_type": "stream",
     "text": [
      "[['12224879', 'Interactive Dynamic Video', 'http://www.interactivedynamicvideo.com/', '386', '52', 'ne0phyte', '8/4/2016 11:52'], ['10975351', 'How to Use Open Source and Shut the Fuck Up at the Same Time', 'http://hueniverse.com/2016/01/26/how-to-use-open-source-and-shut-the-fuck-up-at-the-same-time/', '39', '10', 'josep2', '1/26/2016 19:30'], ['11964716', \"Florida DJs May Face Felony for April Fools' Water Joke\", 'http://www.thewire.com/entertainment/2013/04/florida-djs-april-fools-water-joke/63798/', '2', '1', 'vezycash', '6/23/2016 22:20'], ['11919867', 'Technology ventures: From Idea to Enterprise', 'https://www.amazon.com/Technology-Ventures-Enterprise-Thomas-Byers/dp/0073523429', '3', '1', 'hswarna', '6/17/2016 0:01'], ['10301696', 'Note by Note: The Making of Steinway L1037 (2007)', 'http://www.nytimes.com/2007/11/07/movies/07stein.html?_r=0', '8', '2', 'walterbell', '9/30/2015 4:12']]\n"
     ]
    }
   ],
   "source": [
    "del hn[0]\n",
    "    \n",
    "print(hn[:5])"
   ]
  },
  {
   "cell_type": "code",
   "execution_count": 11,
   "id": "66663e63",
   "metadata": {},
   "outputs": [
    {
     "name": "stdout",
     "output_type": "stream",
     "text": [
      "Number of Ask HN posts: 1744\n",
      "Number of Show HN posts: 1162\n",
      "Number of other posts: 17194\n"
     ]
    }
   ],
   "source": [
    "ask_posts = list()\n",
    "show_posts = list()\n",
    "other_posts = list()\n",
    "\n",
    "\n",
    "\n",
    "for post in hn:\n",
    "    title = post[1]\n",
    "    if title.lower().startswith('ask hn'):\n",
    "        ask_posts.append(post)\n",
    "        \"\"\" print(title, 'ask') \"\"\"\n",
    "    elif title.lower().startswith('show hn'):\n",
    "        show_posts.append(post)\n",
    "        \"\"\" print(title, 'show') \"\"\"\n",
    "    else:\n",
    "        other_posts.append(post)\n",
    "        \"\"\" print(title, 'other') \"\"\"\n",
    "\n",
    "print(\"Number of Ask HN posts:\", len(ask_posts))\n",
    "print(\"Number of Show HN posts:\", len(show_posts))\n",
    "print(\"Number of other posts:\", len(other_posts))"
   ]
  },
  {
   "cell_type": "code",
   "execution_count": 18,
   "id": "03e67de5",
   "metadata": {},
   "outputs": [
    {
     "name": "stdout",
     "output_type": "stream",
     "text": [
      "On average, Ask posts have more comments.\n"
     ]
    }
   ],
   "source": [
    "total_ask_comments = 0\n",
    "total_show_comments = 0\n",
    "\n",
    "for askcomm in ask_posts:\n",
    "    comments: int = int(askcomm[4])\n",
    "    total_ask_comments += comments\n",
    "\n",
    "avg_ask_comments = total_ask_comments / len(ask_posts)\n",
    "\n",
    "for showcomm in show_posts:\n",
    "    comments: int = int(showcomm[4])\n",
    "    total_show_comments += comments\n",
    "\n",
    "avg_show_comments = total_show_comments / len(show_posts)\n",
    "\n",
    "most_commented = ''\n",
    "\n",
    "if avg_ask_comments != avg_show_comments:\n",
    "    if avg_ask_comments > avg_show_comments:\n",
    "        most_commented = 'Ask'\n",
    "    elif avg_show_comments > avg_ask_comments:\n",
    "        most_commented = 'Show'\n",
    "\n",
    "comment = ''\n",
    "if most_commented:\n",
    "    comment = 'On average, ' + most_commented + ' posts have more comments.'\n",
    "else:\n",
    "    comment = 'On average, Show and Ask posts have the same number of comments.'\n",
    "\n",
    "print(comment)\n"
   ]
  },
  {
   "cell_type": "code",
   "execution_count": null,
   "id": "9b3f2bae",
   "metadata": {},
   "outputs": [],
   "source": []
  }
 ],
 "metadata": {
  "kernelspec": {
   "display_name": "Python 3",
   "language": "python",
   "name": "python3"
  },
  "language_info": {
   "codemirror_mode": {
    "name": "ipython",
    "version": 3
   },
   "file_extension": ".py",
   "mimetype": "text/x-python",
   "name": "python",
   "nbconvert_exporter": "python",
   "pygments_lexer": "ipython3",
   "version": "3.13.1"
  }
 },
 "nbformat": 4,
 "nbformat_minor": 5
}
