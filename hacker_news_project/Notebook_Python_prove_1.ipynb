{
 "cells": [
  {
   "cell_type": "markdown",
   "id": "a2d06c3d",
   "metadata": {},
   "source": [
    "Exploring Hacker News Posts"
   ]
  },
  {
   "cell_type": "markdown",
   "id": "e3cd7612",
   "metadata": {},
   "source": [
    "On Hacker News users submit Ask HN posts to ask the \"Hacker News\" community a specific question and \"Show HN\" posts to show a project, product, or just something interesting.\n",
    "\n",
    "We'll compare these two types of posts to determine the following:\n",
    "\n",
    "Do Ask HN or Show HN receive more comments on average?\n",
    "Do posts created at a certain time receive more comments on average?"
   ]
  },
  {
   "cell_type": "code",
   "execution_count": 6,
   "id": "8a8f0c82",
   "metadata": {},
   "outputs": [
    {
     "name": "stdout",
     "output_type": "stream",
     "text": [
      "['id', 'title', 'url', 'num_points', 'num_comments', 'author', 'created_at']\n"
     ]
    }
   ],
   "source": [
    "import csv\n",
    "\n",
    "with open('hacker_news.csv', 'r') as file:\n",
    "    reader = csv.reader(file)\n",
    "    hn = list(reader)\n",
    "headers = hn[0]\n",
    "print(headers)"
   ]
  },
  {
   "cell_type": "code",
   "execution_count": 7,
   "id": "f17b9b71",
   "metadata": {},
   "outputs": [
    {
     "name": "stdout",
     "output_type": "stream",
     "text": [
      "[['12224879', 'Interactive Dynamic Video', 'http://www.interactivedynamicvideo.com/', '386', '52', 'ne0phyte', '8/4/2016 11:52'], ['10975351', 'How to Use Open Source and Shut the Fuck Up at the Same Time', 'http://hueniverse.com/2016/01/26/how-to-use-open-source-and-shut-the-fuck-up-at-the-same-time/', '39', '10', 'josep2', '1/26/2016 19:30'], ['11964716', \"Florida DJs May Face Felony for April Fools' Water Joke\", 'http://www.thewire.com/entertainment/2013/04/florida-djs-april-fools-water-joke/63798/', '2', '1', 'vezycash', '6/23/2016 22:20'], ['11919867', 'Technology ventures: From Idea to Enterprise', 'https://www.amazon.com/Technology-Ventures-Enterprise-Thomas-Byers/dp/0073523429', '3', '1', 'hswarna', '6/17/2016 0:01'], ['10301696', 'Note by Note: The Making of Steinway L1037 (2007)', 'http://www.nytimes.com/2007/11/07/movies/07stein.html?_r=0', '8', '2', 'walterbell', '9/30/2015 4:12']]\n"
     ]
    }
   ],
   "source": [
    "del hn[0]\n",
    "    \n",
    "print(hn[:5])"
   ]
  },
  {
   "cell_type": "code",
   "execution_count": 8,
   "id": "66663e63",
   "metadata": {},
   "outputs": [
    {
     "name": "stdout",
     "output_type": "stream",
     "text": [
      "Number of Ask HN posts: 1744\n",
      "Number of Show HN posts: 1162\n",
      "Number of other posts: 17194\n"
     ]
    }
   ],
   "source": [
    "ask_posts = list()\n",
    "show_posts = list()\n",
    "other_posts = list()\n",
    "\n",
    "\n",
    "\n",
    "for post in hn:\n",
    "    title = post[1]\n",
    "    if title.lower().startswith('ask hn'):\n",
    "        ask_posts.append(post)\n",
    "        \"\"\" print(title, 'ask') \"\"\"\n",
    "    elif title.lower().startswith('show hn'):\n",
    "        show_posts.append(post)\n",
    "        \"\"\" print(title, 'show') \"\"\"\n",
    "    else:\n",
    "        other_posts.append(post)\n",
    "        \"\"\" print(title, 'other') \"\"\"\n",
    "\n",
    "print(\"Number of Ask HN posts:\", len(ask_posts))\n",
    "print(\"Number of Show HN posts:\", len(show_posts))\n",
    "print(\"Number of other posts:\", len(other_posts))"
   ]
  },
  {
   "cell_type": "code",
   "execution_count": 9,
   "id": "03e67de5",
   "metadata": {},
   "outputs": [
    {
     "name": "stdout",
     "output_type": "stream",
     "text": [
      "On average, Ask posts have more comments.\n"
     ]
    }
   ],
   "source": [
    "total_ask_comments = 0\n",
    "total_show_comments = 0\n",
    "\n",
    "for askcomm in ask_posts:\n",
    "    comments: int = int(askcomm[4])\n",
    "    total_ask_comments += comments\n",
    "\n",
    "avg_ask_comments = total_ask_comments / len(ask_posts)\n",
    "\n",
    "for showcomm in show_posts:\n",
    "    comments: int = int(showcomm[4])\n",
    "    total_show_comments += comments\n",
    "\n",
    "avg_show_comments = total_show_comments / len(show_posts)\n",
    "\n",
    "most_commented = ''\n",
    "\n",
    "if avg_ask_comments != avg_show_comments:\n",
    "    if avg_ask_comments > avg_show_comments:\n",
    "        most_commented = 'Ask'\n",
    "    elif avg_show_comments > avg_ask_comments:\n",
    "        most_commented = 'Show'\n",
    "\n",
    "comment = ''\n",
    "if most_commented:\n",
    "    comment = 'On average, ' + most_commented + ' posts have more comments.'\n",
    "else:\n",
    "    comment = 'On average, Show and Ask posts have the same number of comments.'\n",
    "\n",
    "print(comment)\n"
   ]
  },
  {
   "cell_type": "code",
   "execution_count": 10,
   "id": "9b3f2bae",
   "metadata": {},
   "outputs": [],
   "source": [
    "'''importing the datetime library'''\n",
    "try:\n",
    "    from _datetime import *\n",
    "    from _datetime import __doc__\n",
    "except ImportError:\n",
    "    from _pydatetime import *\n",
    "    from _pydatetime import __doc__\n",
    "\n",
    "__all__ = (\"date\", \"datetime\", \"time\", \"timedelta\", \"timezone\", \"tzinfo\",\n",
    "           \"MINYEAR\", \"MAXYEAR\", \"UTC\")"
   ]
  },
  {
   "cell_type": "code",
   "execution_count": 17,
   "id": "eb1befe1",
   "metadata": {},
   "outputs": [
    {
     "name": "stdout",
     "output_type": "stream",
     "text": [
      "{0: 55, 1: 60, 2: 58, 3: 54, 4: 47, 5: 46, 6: 44, 7: 34, 8: 48, 9: 45, 10: 59, 11: 58, 12: 73, 13: 85, 14: 107, 15: 116, 16: 108, 17: 100, 18: 109, 19: 110, 20: 80, 21: 109, 22: 71, 23: 68}\n",
      "{0: '1013611244332281392933421111214144311043338143531012427234321295215', 1: '334124433131922139311443765213421223142262353617282623812422193222069721262514', 2: '32230715184411118411265115116221312267101467251881631414201915424121218686', 3: '12251111821516914123284732321311512212041633344217296239241132415141', 4: '3374131251218211125313622182242111221087214693261911121752', 5: '2922105311022361117169143171342216722513138560325102224642', 6: '11239675222101221368105012142211437311254636722122522', 7: '2311122361125320225112389863619212214621271', 8: '513083422911612414122278349112214523511429512334215111532', 9: '61560124232414731131211212211424221043554421281172', 10: '131197112122133711254618349109904332211141014125061112444423131094311218258101', 11: '2285426653284141462166587114315128313623101326231231362111141241329', 12: '41711731035824123372521169116063225177912102514394273382122611194167152264588531121156213', 13: '29177532554209216155234511044695117225264137914363126112663692491210214262138834831192638131222231826286613', 14: '32223511722215111431110114111664285371221254141151213221239451112312811231111901162622215221425211669611850110211106629152211221323212925218', 15: '1697212521812509336322122631611232310114791032671623432831401281411189111161611225193414418185119471311328241283273149765745192211158591221622022605321233731', 16: '177194140231091726822112513325229212251153996124537181211431021161163551521351111212334826911422312521234319449198325151548271691088012', 17: '12731118220182151055592511262224512916231625412654152372319656135347512514322126825122611111014312242224362628213143452432515', 18: '2356156617220411112833221011614173312111966722531342117479732731011131111134738343312711121321751871224322232330101641122121921327225912304199', 19: '311527623433131851321532553142446181531229172228131064341241727336375253654111143437215427122211241242161823675111351151726131111812', 20: '2374212241112183813264226406715144671242403477452421322374172335833191283295210612168221315532869', 21: '4432032125712191713321010119110621232371614126232520217211951517241147113134102922175414321216106331503228181251153711310724543301423818', 22: '28194931113116724349202361213612161235524672133421316552363162912221916191622293410521', 23: '145217122152181511271187657948696563141132949424104461461456265133351202151111282'}\n"
     ]
    }
   ],
   "source": [
    "result_list = list()\n",
    "\n",
    "for post in ask_posts:\n",
    "    result_list.append([post[6], post[4]])\n",
    "\n",
    "counts_by_hour = dict()\n",
    "comments_by_hour = dict()\n",
    "\n",
    "for res in result_list:\n",
    "    date_object = datetime.strptime(res[0], '%m/%d/%Y %H:%M')\n",
    "    hour = date_object.hour\n",
    "\n",
    "    if hour not in counts_by_hour:\n",
    "        counts_by_hour[hour] = 1\n",
    "        comments_by_hour[hour] = res[1]\n",
    "    else: \n",
    "        counts_by_hour[hour] += 1\n",
    "        comments_by_hour[hour] += res[1]\n",
    "\n",
    "print(dict(sorted(counts_by_hour.items(), key=lambda x: x[0])))\n",
    "print(dict(sorted(comments_by_hour.items(), key=lambda x: x[0])))"
   ]
  },
  {
   "cell_type": "code",
   "execution_count": null,
   "id": "0715a990",
   "metadata": {},
   "outputs": [],
   "source": []
  }
 ],
 "metadata": {
  "kernelspec": {
   "display_name": "Python 3",
   "language": "python",
   "name": "python3"
  },
  "language_info": {
   "codemirror_mode": {
    "name": "ipython",
    "version": 3
   },
   "file_extension": ".py",
   "mimetype": "text/x-python",
   "name": "python",
   "nbconvert_exporter": "python",
   "pygments_lexer": "ipython3",
   "version": "3.13.1"
  }
 },
 "nbformat": 4,
 "nbformat_minor": 5
}
